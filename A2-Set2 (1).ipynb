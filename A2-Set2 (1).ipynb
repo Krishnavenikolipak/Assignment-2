{
 "cells": [
  {
   "cell_type": "markdown",
   "id": "866c4855",
   "metadata": {},
   "source": [
    "# Q1"
   ]
  },
  {
   "cell_type": "code",
   "execution_count": 1,
   "id": "ac5838c7",
   "metadata": {
    "ExecuteTime": {
     "end_time": "2022-12-29T08:08:06.461991Z",
     "start_time": "2022-12-29T08:08:00.830320Z"
    }
   },
   "outputs": [],
   "source": [
    "from scipy import stats"
   ]
  },
  {
   "cell_type": "code",
   "execution_count": 2,
   "id": "9e7069e6",
   "metadata": {
    "ExecuteTime": {
     "end_time": "2022-12-29T08:08:44.637705Z",
     "start_time": "2022-12-29T08:08:44.557990Z"
    }
   },
   "outputs": [
    {
     "data": {
      "text/plain": [
       "0.7340144709512995"
      ]
     },
     "execution_count": 2,
     "metadata": {},
     "output_type": "execute_result"
    }
   ],
   "source": [
    "stats.norm.cdf(60,55,8)"
   ]
  },
  {
   "cell_type": "code",
   "execution_count": 4,
   "id": "b033356d",
   "metadata": {
    "ExecuteTime": {
     "end_time": "2022-12-29T08:11:38.438627Z",
     "start_time": "2022-12-29T08:11:38.423454Z"
    }
   },
   "outputs": [
    {
     "data": {
      "text/plain": [
       "0.26598560000000004"
      ]
     },
     "execution_count": 4,
     "metadata": {},
     "output_type": "execute_result"
    }
   ],
   "source": [
    "1-0.7340144"
   ]
  },
  {
   "cell_type": "markdown",
   "id": "ffed9860",
   "metadata": {},
   "source": [
    "# Q2"
   ]
  },
  {
   "cell_type": "code",
   "execution_count": 5,
   "id": "c5a924b3",
   "metadata": {
    "ExecuteTime": {
     "end_time": "2022-12-29T08:30:20.018431Z",
     "start_time": "2022-12-29T08:30:20.002433Z"
    }
   },
   "outputs": [],
   "source": [
    "from scipy import stats"
   ]
  },
  {
   "cell_type": "code",
   "execution_count": null,
   "id": "ba5a5381",
   "metadata": {},
   "outputs": [],
   "source": [
    "# A. More employees at the processing center are older than 44 than between 38 and 44.\n"
   ]
  },
  {
   "cell_type": "code",
   "execution_count": 6,
   "id": "2c63d427",
   "metadata": {
    "ExecuteTime": {
     "end_time": "2022-12-29T08:31:10.197965Z",
     "start_time": "2022-12-29T08:31:10.173911Z"
    }
   },
   "outputs": [
    {
     "data": {
      "text/plain": [
       "0.15865525393145707"
      ]
     },
     "execution_count": 6,
     "metadata": {},
     "output_type": "execute_result"
    }
   ],
   "source": [
    "# P(X>44)\n",
    "1-stats.norm.cdf(44,38,6)"
   ]
  },
  {
   "cell_type": "code",
   "execution_count": 7,
   "id": "0266edbe",
   "metadata": {
    "ExecuteTime": {
     "end_time": "2022-12-29T08:31:36.921185Z",
     "start_time": "2022-12-29T08:31:36.905569Z"
    }
   },
   "outputs": [
    {
     "data": {
      "text/plain": [
       "0.3413447460685429"
      ]
     },
     "execution_count": 7,
     "metadata": {},
     "output_type": "execute_result"
    }
   ],
   "source": [
    "# P(38<X<44)\n",
    "stats.norm.cdf(44,38,6)-stats.norm.cdf(38,38,6)"
   ]
  },
  {
   "cell_type": "code",
   "execution_count": null,
   "id": "a0d12ffd",
   "metadata": {},
   "outputs": [],
   "source": [
    "# B.  A training program for employees under the age of 30 at the center would be expected to attract about 36 employees."
   ]
  },
  {
   "cell_type": "code",
   "execution_count": 8,
   "id": "17ab61e3",
   "metadata": {
    "ExecuteTime": {
     "end_time": "2022-12-29T08:32:30.652957Z",
     "start_time": "2022-12-29T08:32:30.628958Z"
    }
   },
   "outputs": [
    {
     "data": {
      "text/plain": [
       "0.09121121972586788"
      ]
     },
     "execution_count": 8,
     "metadata": {},
     "output_type": "execute_result"
    }
   ],
   "source": [
    "# P(X<30)\n",
    "stats.norm.cdf(30,38,6)"
   ]
  },
  {
   "cell_type": "code",
   "execution_count": 9,
   "id": "5aae6330",
   "metadata": {
    "ExecuteTime": {
     "end_time": "2022-12-29T08:32:53.493342Z",
     "start_time": "2022-12-29T08:32:53.469345Z"
    }
   },
   "outputs": [
    {
     "data": {
      "text/plain": [
       "36.484487890347154"
      ]
     },
     "execution_count": 9,
     "metadata": {},
     "output_type": "execute_result"
    }
   ],
   "source": [
    "# no.of employees attending training program from 400 no.'s is N*P(X<30)\n",
    "\n",
    "400*stats.norm.cdf(30,38,6)"
   ]
  },
  {
   "cell_type": "markdown",
   "id": "4867a418",
   "metadata": {},
   "source": [
    "# Q4"
   ]
  },
  {
   "cell_type": "code",
   "execution_count": 10,
   "id": "f8d0df17",
   "metadata": {
    "ExecuteTime": {
     "end_time": "2022-12-29T08:37:52.455453Z",
     "start_time": "2022-12-29T08:37:52.439452Z"
    }
   },
   "outputs": [],
   "source": [
    "from scipy import stats"
   ]
  },
  {
   "cell_type": "code",
   "execution_count": 11,
   "id": "7cc55efd",
   "metadata": {
    "ExecuteTime": {
     "end_time": "2022-12-29T08:38:11.071790Z",
     "start_time": "2022-12-29T08:38:10.981436Z"
    }
   },
   "outputs": [
    {
     "data": {
      "text/plain": [
       "(48.48341392902199, 151.516586070978)"
      ]
     },
     "execution_count": 11,
     "metadata": {},
     "output_type": "execute_result"
    }
   ],
   "source": [
    "stats.norm.interval(0.99,100,20)"
   ]
  },
  {
   "cell_type": "markdown",
   "id": "2cd8d31e",
   "metadata": {},
   "source": [
    "# Q5"
   ]
  },
  {
   "cell_type": "code",
   "execution_count": 12,
   "id": "f4e024e6",
   "metadata": {
    "ExecuteTime": {
     "end_time": "2022-12-29T08:40:03.756946Z",
     "start_time": "2022-12-29T08:40:03.740942Z"
    }
   },
   "outputs": [],
   "source": [
    "import numpy as np\n",
    "from scipy import stats"
   ]
  },
  {
   "cell_type": "code",
   "execution_count": 13,
   "id": "68110a66",
   "metadata": {
    "ExecuteTime": {
     "end_time": "2022-12-29T08:40:29.900868Z",
     "start_time": "2022-12-29T08:40:29.884922Z"
    }
   },
   "outputs": [
    {
     "name": "stdout",
     "output_type": "stream",
     "text": [
      "Mean Profit is Rs 540 Million\n"
     ]
    }
   ],
   "source": [
    "# Mean profits from two different divisions of a company = Mean1 + Mean2\n",
    "\n",
    "Mean = 5+7 \n",
    "print('Mean Profit is Rs', Mean*45,'Million')"
   ]
  },
  {
   "cell_type": "code",
   "execution_count": 14,
   "id": "c4cd23e8",
   "metadata": {
    "ExecuteTime": {
     "end_time": "2022-12-29T08:40:58.984870Z",
     "start_time": "2022-12-29T08:40:58.960868Z"
    }
   },
   "outputs": [
    {
     "name": "stdout",
     "output_type": "stream",
     "text": [
      "Standard Deviation is Rs 225.0 Million\n"
     ]
    }
   ],
   "source": [
    "# Variance of profits from two different divisions of a company = SD^2 = SD1^2 + SD2^2\n",
    "\n",
    "SD=np.sqrt((9)+(16))\n",
    "print('Standard Deviation is Rs',SD*45,'Million')"
   ]
  },
  {
   "cell_type": "code",
   "execution_count": 15,
   "id": "fed91a9d",
   "metadata": {
    "ExecuteTime": {
     "end_time": "2022-12-29T08:41:18.903235Z",
     "start_time": "2022-12-29T08:41:18.887236Z"
    }
   },
   "outputs": [
    {
     "name": "stdout",
     "output_type": "stream",
     "text": [
      "Range is Rs (99.00810347848784, 980.9918965215122) in Millions\n"
     ]
    }
   ],
   "source": [
    "#  A. Specify a Rupee range (centered on the mean) such that it contains 95% probability for the annual profit of the company.\n",
    " \n",
    "print('Range is Rs',(stats.norm.interval(0.95,540,225)),'in Millions')"
   ]
  },
  {
   "cell_type": "code",
   "execution_count": 16,
   "id": "2f884633",
   "metadata": {
    "ExecuteTime": {
     "end_time": "2022-12-29T08:41:41.428484Z",
     "start_time": "2022-12-29T08:41:41.412857Z"
    }
   },
   "outputs": [
    {
     "name": "stdout",
     "output_type": "stream",
     "text": [
      "5th percentail of profit( in Million Rs) is 170.0\n"
     ]
    }
   ],
   "source": [
    "#  B. Specify the 5th percentile of profit (in Rupees) for the company\n",
    "# To compute 5th Percentile, we use the formula X=μ + Zσ; wherein from z table, 5 percentile= -1.645\n",
    "\n",
    "X=540+(-1.645)*(225)\n",
    "print('5th percentail of profit( in Million Rs) is',np.round(X,))"
   ]
  },
  {
   "cell_type": "code",
   "execution_count": null,
   "id": "6a5b68ae",
   "metadata": {},
   "outputs": [],
   "source": [
    "# C. Which of the two divisions has a larger probability of making a loss in a given year?"
   ]
  },
  {
   "cell_type": "code",
   "execution_count": 17,
   "id": "e0808187",
   "metadata": {
    "ExecuteTime": {
     "end_time": "2022-12-29T08:42:23.920023Z",
     "start_time": "2022-12-29T08:42:23.821089Z"
    }
   },
   "outputs": [
    {
     "data": {
      "text/plain": [
       "0.0477903522728147"
      ]
     },
     "execution_count": 17,
     "metadata": {},
     "output_type": "execute_result"
    }
   ],
   "source": [
    "stats.norm.cdf(0,5,3) # p(division 1 making a loss) i.e., p(X<0)"
   ]
  },
  {
   "cell_type": "code",
   "execution_count": 18,
   "id": "462857c3",
   "metadata": {
    "ExecuteTime": {
     "end_time": "2022-12-29T08:42:39.006809Z",
     "start_time": "2022-12-29T08:42:38.990804Z"
    }
   },
   "outputs": [
    {
     "data": {
      "text/plain": [
       "0.040059156863817086"
      ]
     },
     "execution_count": 18,
     "metadata": {},
     "output_type": "execute_result"
    }
   ],
   "source": [
    "stats.norm.cdf(0,7,4) # p( division 2 making a loss) i.e.,  p(X<0)"
   ]
  },
  {
   "cell_type": "code",
   "execution_count": null,
   "id": "352e17bd",
   "metadata": {},
   "outputs": [],
   "source": []
  }
 ],
 "metadata": {
  "kernelspec": {
   "display_name": "Python 3 (ipykernel)",
   "language": "python",
   "name": "python3"
  },
  "language_info": {
   "codemirror_mode": {
    "name": "ipython",
    "version": 3
   },
   "file_extension": ".py",
   "mimetype": "text/x-python",
   "name": "python",
   "nbconvert_exporter": "python",
   "pygments_lexer": "ipython3",
   "version": "3.9.13"
  }
 },
 "nbformat": 4,
 "nbformat_minor": 5
}
