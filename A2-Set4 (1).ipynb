{
 "cells": [
  {
   "cell_type": "markdown",
   "id": "412528ac",
   "metadata": {},
   "source": [
    "# Q3"
   ]
  },
  {
   "cell_type": "code",
   "execution_count": 1,
   "id": "b8c784d2",
   "metadata": {
    "ExecuteTime": {
     "end_time": "2023-01-02T09:41:11.947409Z",
     "start_time": "2023-01-02T09:41:11.256110Z"
    }
   },
   "outputs": [],
   "source": [
    "from scipy import stats"
   ]
  },
  {
   "cell_type": "code",
   "execution_count": 2,
   "id": "4c0f8120",
   "metadata": {
    "ExecuteTime": {
     "end_time": "2023-01-02T09:41:35.613764Z",
     "start_time": "2023-01-02T09:41:35.586800Z"
    }
   },
   "outputs": [
    {
     "data": {
      "text/plain": [
       "-1.25"
      ]
     },
     "execution_count": 2,
     "metadata": {},
     "output_type": "execute_result"
    }
   ],
   "source": [
    "# find z-score at x=45; z=(s_mean-P_mean)/(p_SD/sqrt(n))\n",
    "\n",
    "z=(45-50)/(40/100**0.5)\n",
    "z"
   ]
  },
  {
   "cell_type": "code",
   "execution_count": 3,
   "id": "a408eb4e",
   "metadata": {
    "ExecuteTime": {
     "end_time": "2023-01-02T09:42:06.084167Z",
     "start_time": "2023-01-02T09:42:06.063430Z"
    }
   },
   "outputs": [
    {
     "data": {
      "text/plain": [
       "1.25"
      ]
     },
     "execution_count": 3,
     "metadata": {},
     "output_type": "execute_result"
    }
   ],
   "source": [
    "# find z-scores at x=55; z=(s_mean-P_mean)/(p_SD/sqrt(n))\n",
    "\n",
    "z=(55-50)/(40/100**0.5)\n",
    "z"
   ]
  },
  {
   "cell_type": "code",
   "execution_count": 4,
   "id": "daa32952",
   "metadata": {
    "ExecuteTime": {
     "end_time": "2023-01-02T09:42:30.675773Z",
     "start_time": "2023-01-02T09:42:30.662093Z"
    }
   },
   "outputs": [
    {
     "data": {
      "text/plain": [
       "0.7887004526662893"
      ]
     },
     "execution_count": 4,
     "metadata": {},
     "output_type": "execute_result"
    }
   ],
   "source": [
    "# For No investigation P(45<X<55) using z_scores = P(X<50)-P(X<45)\n",
    "\n",
    "stats.norm.cdf(1.25)-stats.norm.cdf(-1.25)"
   ]
  },
  {
   "cell_type": "code",
   "execution_count": 5,
   "id": "cc754e9d",
   "metadata": {
    "ExecuteTime": {
     "end_time": "2023-01-02T09:42:52.111603Z",
     "start_time": "2023-01-02T09:42:51.969621Z"
    }
   },
   "outputs": [
    {
     "data": {
      "text/plain": [
       "(45.00000495667348, 54.99999504332652)"
      ]
     },
     "execution_count": 5,
     "metadata": {},
     "output_type": "execute_result"
    }
   ],
   "source": [
    "stats.norm.interval(0.7887,loc=50,scale=40/(100**0.5))"
   ]
  },
  {
   "cell_type": "code",
   "execution_count": 6,
   "id": "10957de4",
   "metadata": {
    "ExecuteTime": {
     "end_time": "2023-01-02T09:43:11.302712Z",
     "start_time": "2023-01-02T09:43:11.292160Z"
    }
   },
   "outputs": [
    {
     "data": {
      "text/plain": [
       "0.21130000000000004"
      ]
     },
     "execution_count": 6,
     "metadata": {},
     "output_type": "execute_result"
    }
   ],
   "source": [
    "# For Investigation 1-P(45<X<55)\n",
    "\n",
    "1-0.7887"
   ]
  },
  {
   "cell_type": "code",
   "execution_count": null,
   "id": "8ddebfd6",
   "metadata": {},
   "outputs": [],
   "source": []
  }
 ],
 "metadata": {
  "kernelspec": {
   "display_name": "Python 3 (ipykernel)",
   "language": "python",
   "name": "python3"
  },
  "language_info": {
   "codemirror_mode": {
    "name": "ipython",
    "version": 3
   },
   "file_extension": ".py",
   "mimetype": "text/x-python",
   "name": "python",
   "nbconvert_exporter": "python",
   "pygments_lexer": "ipython3",
   "version": "3.9.13"
  }
 },
 "nbformat": 4,
 "nbformat_minor": 5
}
