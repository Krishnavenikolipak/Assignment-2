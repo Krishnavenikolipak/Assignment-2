{
 "cells": [
  {
   "cell_type": "markdown",
   "id": "5bf96837",
   "metadata": {},
   "source": [
    "# Q1"
   ]
  },
  {
   "cell_type": "code",
   "execution_count": 1,
   "id": "ce07231b",
   "metadata": {
    "ExecuteTime": {
     "end_time": "2022-12-25T08:02:24.162735Z",
     "start_time": "2022-12-25T08:02:05.497437Z"
    }
   },
   "outputs": [],
   "source": [
    "import pandas as pd \n",
    "import numpy as np\n",
    "import matplotlib.pyplot as plt\n",
    "import seaborn as sns"
   ]
  },
  {
   "cell_type": "code",
   "execution_count": 2,
   "id": "6046a70e",
   "metadata": {
    "ExecuteTime": {
     "end_time": "2022-12-25T08:04:18.501331Z",
     "start_time": "2022-12-25T08:04:18.447887Z"
    }
   },
   "outputs": [],
   "source": [
    "x=pd.Series([24.23,25.53,25.41,29.62,28.25,25.81,24.39,40.26,32.95,91.36,25.99,39.42,26.71,35.00])"
   ]
  },
  {
   "cell_type": "code",
   "execution_count": 3,
   "id": "04792773",
   "metadata": {
    "ExecuteTime": {
     "end_time": "2022-12-25T08:04:56.310401Z",
     "start_time": "2022-12-25T08:04:56.294348Z"
    }
   },
   "outputs": [],
   "source": [
    "name=['Allied Signal','Bankers Trust','General Milk','ITT Industries','J.P.Morgan & Co','Lehman Brothers','Marriott','MCI','Merrill','Microsoft','Morgan Stanley','Sun Microsystems','Travelers','US Airways','Warner-Lambert']"
   ]
  },
  {
   "cell_type": "code",
   "execution_count": 5,
   "id": "a1be499f",
   "metadata": {
    "ExecuteTime": {
     "end_time": "2022-12-25T08:06:17.666980Z",
     "start_time": "2022-12-25T08:06:17.576277Z"
    }
   },
   "outputs": [
    {
     "data": {
      "image/png": "[encoded data removed]",
      "text/plain": [
       "<Figure size 640x480 with 1 Axes>"
      ]
     },
     "metadata": {},
     "output_type": "display_data"
    }
   ],
   "source": [
    "sns.boxplot(x)\n",
    "import warnings\n",
    "warnings.filterwarnings('ignore')"
   ]
  },
  {
   "cell_type": "code",
   "execution_count": 6,
   "id": "0c99ac08",
   "metadata": {
    "ExecuteTime": {
     "end_time": "2022-12-25T08:06:41.472828Z",
     "start_time": "2022-12-25T08:06:41.456825Z"
    }
   },
   "outputs": [
    {
     "data": {
      "text/plain": [
       "33.92357142857143"
      ]
     },
     "execution_count": 6,
     "metadata": {},
     "output_type": "execute_result"
    }
   ],
   "source": [
    "x.mean()"
   ]
  },
  {
   "cell_type": "code",
   "execution_count": 7,
   "id": "3b8c5761",
   "metadata": {
    "ExecuteTime": {
     "end_time": "2022-12-25T08:06:50.766846Z",
     "start_time": "2022-12-25T08:06:50.743082Z"
    }
   },
   "outputs": [
    {
     "data": {
      "text/plain": [
       "17.388580517615072"
      ]
     },
     "execution_count": 7,
     "metadata": {},
     "output_type": "execute_result"
    }
   ],
   "source": [
    "x.std()"
   ]
  },
  {
   "cell_type": "code",
   "execution_count": 8,
   "id": "0440d035",
   "metadata": {
    "ExecuteTime": {
     "end_time": "2022-12-25T08:06:58.706089Z",
     "start_time": "2022-12-25T08:06:58.682086Z"
    }
   },
   "outputs": [
    {
     "data": {
      "text/plain": [
       "302.3627324175824"
      ]
     },
     "execution_count": 8,
     "metadata": {},
     "output_type": "execute_result"
    }
   ],
   "source": [
    "x.var()"
   ]
  },
  {
   "cell_type": "code",
   "execution_count": null,
   "id": "ca326d01",
   "metadata": {},
   "outputs": [],
   "source": []
  }
 ],
 "metadata": {
  "kernelspec": {
   "display_name": "Python 3 (ipykernel)",
   "language": "python",
   "name": "python3"
  },
  "language_info": {
   "codemirror_mode": {
    "name": "ipython",
    "version": 3
   },
   "file_extension": ".py",
   "mimetype": "text/x-python",
   "name": "python",
   "nbconvert_exporter": "python",
   "pygments_lexer": "ipython3",
   "version": "3.9.13"
  }
 },
 "nbformat": 4,
 "nbformat_minor": 5
}
