{
 "cells": [
  {
   "cell_type": "markdown",
   "id": "f1fe13e0",
   "metadata": {},
   "source": [
    "# Q5"
   ]
  },
  {
   "cell_type": "code",
   "execution_count": 3,
   "id": "f867a898",
   "metadata": {
    "ExecuteTime": {
     "end_time": "2023-01-02T09:38:20.182734Z",
     "start_time": "2023-01-02T09:38:20.170055Z"
    }
   },
   "outputs": [],
   "source": [
    "from scipy import stats\n",
    "import numpy as np"
   ]
  },
  {
   "cell_type": "code",
   "execution_count": 4,
   "id": "d8481803",
   "metadata": {
    "ExecuteTime": {
     "end_time": "2023-01-02T09:38:50.216366Z",
     "start_time": "2023-01-02T09:38:50.139230Z"
    }
   },
   "outputs": [
    {
     "data": {
      "text/plain": [
       "-0.820782681668124"
      ]
     },
     "execution_count": 4,
     "metadata": {},
     "output_type": "execute_result"
    }
   ],
   "source": [
    "# Apply One-Sample One-Tail z-test\n",
    "\n",
    "z_scores=(0.046-0.05)/(np.sqrt((0.05*(1-0.05))/2000))\n",
    "z_scores    "
   ]
  },
  {
   "cell_type": "code",
   "execution_count": 5,
   "id": "eb6a41b6",
   "metadata": {
    "ExecuteTime": {
     "end_time": "2023-01-02T09:39:13.713536Z",
     "start_time": "2023-01-02T09:39:13.625758Z"
    }
   },
   "outputs": [
    {
     "data": {
      "text/plain": [
       "0.20588503245107104"
      ]
     },
     "execution_count": 5,
     "metadata": {},
     "output_type": "execute_result"
    }
   ],
   "source": [
    "#  Find probality assuming null hypothesis, so as to compare with Type1 error  0.05\n",
    "\n",
    "p_value=1-stats.norm.cdf(abs(z_scores))\n",
    "p_value"
   ]
  },
  {
   "cell_type": "code",
   "execution_count": null,
   "id": "75582556",
   "metadata": {},
   "outputs": [],
   "source": []
  }
 ],
 "metadata": {
  "kernelspec": {
   "display_name": "Python 3 (ipykernel)",
   "language": "python",
   "name": "python3"
  },
  "language_info": {
   "codemirror_mode": {
    "name": "ipython",
    "version": 3
   },
   "file_extension": ".py",
   "mimetype": "text/x-python",
   "name": "python",
   "nbconvert_exporter": "python",
   "pygments_lexer": "ipython3",
   "version": "3.9.13"
  }
 },
 "nbformat": 4,
 "nbformat_minor": 5
}
